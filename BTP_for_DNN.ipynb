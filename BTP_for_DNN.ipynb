{
  "nbformat": 4,
  "nbformat_minor": 0,
  "metadata": {
    "colab": {
      "provenance": []
    },
    "kernelspec": {
      "name": "python3",
      "display_name": "Python 3"
    },
    "language_info": {
      "name": "python"
    }
  },
  "cells": [
    {
      "cell_type": "markdown",
      "source": [
        "## Importing all the required libraries"
      ],
      "metadata": {
        "id": "cPdPy3Zcf3rb"
      }
    },
    {
      "cell_type": "code",
      "execution_count": 1,
      "metadata": {
        "id": "JoOK8YgBfze6"
      },
      "outputs": [],
      "source": [
        "import torch\n",
        "from torch.utils.data import Dataset, DataLoader\n",
        "import torch.nn as nn\n",
        "import torch.optim as optim\n",
        "from torchvision import transforms\n",
        "import numpy as np\n",
        "import matplotlib.pyplot as plt\n",
        "import os\n",
        "import pandas as pd\n",
        "from sklearn.model_selection import train_test_split"
      ]
    },
    {
      "cell_type": "markdown",
      "source": [
        "## Loading the datafiles"
      ],
      "metadata": {
        "id": "18KxDBN1iMSg"
      }
    },
    {
      "cell_type": "markdown",
      "source": [
        "**Mount the gdrive**"
      ],
      "metadata": {
        "id": "lskyjM8rpy8H"
      }
    },
    {
      "cell_type": "code",
      "source": [
        "from google.colab import drive\n",
        "\n",
        "# Mount Google Drive\n",
        "drive.mount('/content/gdrive')"
      ],
      "metadata": {
        "colab": {
          "base_uri": "https://localhost:8080/"
        },
        "id": "jLgWcSX_p4TC",
        "outputId": "1552edb9-120b-4bff-9017-8dbe5c93c3e3"
      },
      "execution_count": 2,
      "outputs": [
        {
          "output_type": "stream",
          "name": "stdout",
          "text": [
            "Mounted at /content/gdrive\n"
          ]
        }
      ]
    },
    {
      "cell_type": "code",
      "source": [
        "# Specify the path to your input folder and target Excel file\n",
        "input_folder_path = \"/content/gdrive/MyDrive/BTP/New_data\"\n",
        "input_files = [os.path.join(input_folder_path, file) for file in os.listdir(input_folder_path) if file.endswith(\".txt\")]\n",
        "target_excel_path = \"/content/gdrive/MyDrive/BTP/NLO_OR_NLR.xlsx\"\n",
        "target_df = pd.read_excel(target_excel_path)"
      ],
      "metadata": {
        "id": "qnGGzEJnpQ4y"
      },
      "execution_count": 3,
      "outputs": []
    },
    {
      "cell_type": "code",
      "source": [
        "# Assuming your Excel file has a column named \"Target\" for the target values\n",
        "targets = target_df[\"Target(in micro cm/W)\"].values\n",
        "def load_data_from_text_file(file_path):\n",
        "    with open(file_path, 'r') as file:\n",
        "        lines = file.readlines()\n",
        "    # Assuming the data is tab-separated\n",
        "    data = [float(line.strip().split('\\t')[1]) for line in lines]\n",
        "    return data\n",
        "# Step 4: Load and preprocess input data from text files\n",
        "input_data = [load_data_from_text_file(file) for file in input_files]\n",
        "# Step 2: Convert input_data to PyTorch tensors\n",
        "input_data_tensor = torch.tensor(input_data, dtype=torch.float32)\n",
        "# Step 3: Split the dataset into training and validation sets\n",
        "# input_train, input_val, target_train, target_val = train_test_split(input_data_tensor, targets, test_size=0, random_state=42)"
      ],
      "metadata": {
        "id": "mqr2TN3ziMIV"
      },
      "execution_count": 36,
      "outputs": []
    },
    {
      "cell_type": "code",
      "source": [
        "input_data_tensor.shape"
      ],
      "metadata": {
        "colab": {
          "base_uri": "https://localhost:8080/"
        },
        "id": "kiV_fM6Ut6fA",
        "outputId": "a9a992b6-dd11-4988-9a83-33567f0c7b62"
      },
      "execution_count": 37,
      "outputs": [
        {
          "output_type": "execute_result",
          "data": {
            "text/plain": [
              "torch.Size([2, 100])"
            ]
          },
          "metadata": {},
          "execution_count": 37
        }
      ]
    },
    {
      "cell_type": "code",
      "source": [
        "input_data_tensor.dtype"
      ],
      "metadata": {
        "colab": {
          "base_uri": "https://localhost:8080/"
        },
        "id": "Gz3uVm5xs06e",
        "outputId": "7e30b753-8f87-469a-cfe3-0609fa93a004"
      },
      "execution_count": 32,
      "outputs": [
        {
          "output_type": "execute_result",
          "data": {
            "text/plain": [
              "torch.float32"
            ]
          },
          "metadata": {},
          "execution_count": 32
        }
      ]
    },
    {
      "cell_type": "markdown",
      "source": [
        "## DNN Architecture:"
      ],
      "metadata": {
        "id": "gt-iPogYRIkR"
      }
    },
    {
      "cell_type": "code",
      "source": [
        "# Define your neural network model\n",
        "class RegressionModel(nn.Module):\n",
        "    def __init__(self, input_size, hidden_size, output_size):\n",
        "        super(RegressionModel, self).__init__()\n",
        "        self.fc1 = nn.Linear(input_size, hidden_size)\n",
        "        self.relu = nn.ReLU()\n",
        "        self.fc2 = nn.Linear(hidden_size, output_size)\n",
        "\n",
        "    def forward(self, x):\n",
        "        x = self.fc1(x)\n",
        "        x = self.relu(x)\n",
        "        x = self.fc2(x)\n",
        "        return x"
      ],
      "metadata": {
        "id": "Jh5bGxbYPmYp"
      },
      "execution_count": 19,
      "outputs": []
    },
    {
      "cell_type": "markdown",
      "source": [
        "## set up the params"
      ],
      "metadata": {
        "id": "o1FoXvRXV-Nj"
      }
    },
    {
      "cell_type": "code",
      "source": [
        "# Define hyperparameters\n",
        "input_size =100 #len(train_dataset[0][0]) #len(train_dataset[0][0])  # Number of input features\n",
        "hidden_size = 64  # Number of neurons in the hidden layer\n",
        "output_size = 1  # Number of output neurons\n",
        "\n",
        "# Instantiate the model\n",
        "model = RegressionModel(input_size, hidden_size, output_size)\n",
        "\n",
        "# Loss function and optimizer\n",
        "criterion = nn.MSELoss()\n",
        "optimizer = optim.Adam(model.parameters(), lr=0.001)\n"
      ],
      "metadata": {
        "id": "T_kbKa84V95Z"
      },
      "execution_count": 38,
      "outputs": []
    },
    {
      "cell_type": "markdown",
      "source": [
        "## training and validating the model"
      ],
      "metadata": {
        "id": "mj9nDejgRCu4"
      }
    },
    {
      "cell_type": "code",
      "source": [
        "\n",
        "# Training loop\n",
        "num_epochs = 1000\n",
        "\n",
        "for epoch in range(num_epochs):\n",
        "    # Forward pass\n",
        "    outputs = model(input_data_tensor)\n",
        "\n",
        "    # Here you would need the actual target values for training\n",
        "\n",
        "    # For demonstration purposes, assuming target_values is a tensor of the same shape as outputs\n",
        "    target_values = torch.tensor([7.2, 5.1], dtype=torch.float32).view(-1, 1)\n",
        "\n",
        "    # Compute the loss\n",
        "    loss = criterion(outputs, target_values)\n",
        "\n",
        "    # Backward pass and optimization\n",
        "    optimizer.zero_grad()\n",
        "    loss.backward()\n",
        "    optimizer.step()\n",
        "\n",
        "    if (epoch + 1) % 100 == 0:\n",
        "        print(f'Epoch [{epoch+1}/{num_epochs}], Loss: {loss.item():.4f}')\n",
        "\n",
        "# After training, you can use the model for predictions\n",
        "with torch.no_grad():\n",
        "    predicted_values = model(input_data_tensor)\n",
        "    print(f'Predicted Values: {predicted_values.view(-1).tolist()}')"
      ],
      "metadata": {
        "colab": {
          "base_uri": "https://localhost:8080/"
        },
        "id": "dRL90u1s0uyZ",
        "outputId": "d7c56a03-6b3e-4dfb-a630-586ab5d82890"
      },
      "execution_count": 39,
      "outputs": [
        {
          "output_type": "stream",
          "name": "stdout",
          "text": [
            "Epoch [100/1000], Loss: 0.0004\n",
            "Epoch [200/1000], Loss: 0.0000\n",
            "Epoch [300/1000], Loss: 0.0000\n",
            "Epoch [400/1000], Loss: 0.0000\n",
            "Epoch [500/1000], Loss: 0.0000\n",
            "Epoch [600/1000], Loss: 0.0000\n",
            "Epoch [700/1000], Loss: 0.0000\n",
            "Epoch [800/1000], Loss: 0.0000\n",
            "Epoch [900/1000], Loss: 0.0000\n",
            "Epoch [1000/1000], Loss: 0.0000\n",
            "Predicted Values: [7.199999809265137, 5.099999904632568]\n"
          ]
        }
      ]
    },
    {
      "cell_type": "markdown",
      "source": [
        "## Testing the model"
      ],
      "metadata": {
        "id": "m6r3KgMZRyPJ"
      }
    },
    {
      "cell_type": "code",
      "source": [
        "# printing mse values to the above model\n",
        "\n",
        "from sklearn.metrics import mean_squared_error\n",
        "with torch.no_grad():\n",
        "  predicted_values = model(input_data_tensor)\n",
        "  mse = mean_squared_error(targets, predicted_values.view(-1).tolist())\n",
        "  print(f'MSE: {mse}')\n"
      ],
      "metadata": {
        "id": "4FP8iRw4gdoi",
        "colab": {
          "base_uri": "https://localhost:8080/"
        },
        "outputId": "3b5f5df9-148c-4a69-c8b4-a12cc4df5553"
      },
      "execution_count": 40,
      "outputs": [
        {
          "output_type": "stream",
          "name": "stdout",
          "text": [
            "MSE: 2.2737367544323207e-14\n"
          ]
        }
      ]
    },
    {
      "cell_type": "code",
      "source": [
        "import matplotlib.pyplot as plt\n",
        "\n",
        "plt.figure(figsize=(10, 6))\n",
        "plt.plot(targets, label=\"True Values\")\n",
        "plt.plot(predicted_values.view(-1).tolist(), label=\"Predicted Values\")\n",
        "plt.xlabel(\"Data Points\")\n",
        "plt.ylabel(\"Target Value\")\n",
        "plt.title(\"True vs. Predicted Values\")\n",
        "plt.legend()\n",
        "plt.show()\n"
      ],
      "metadata": {
        "colab": {
          "base_uri": "https://localhost:8080/",
          "height": 564
        },
        "id": "jzCCwHydWJF8",
        "outputId": "8cde9cc3-b75b-41d3-f9de-27940fb22546"
      },
      "execution_count": 41,
      "outputs": [
        {
          "output_type": "display_data",
          "data": {
            "text/plain": [
              "<Figure size 1000x600 with 1 Axes>"
            ],
            "image/png": "[encoded data removed]"
          },
          "metadata": {}
        }
      ]
    },
    {
      "cell_type": "code",
      "source": [
        "# Assuming your Excel file has a column named \"Target\" for the target values\n",
        "targets = target_df[\"Target(in micro cm/W)\"].values\n",
        "def load_data_from_text_file(file_path):\n",
        "    with open(file_path, 'r') as file:\n",
        "        lines = file.readlines()\n",
        "    # Assuming the data is tab-separated\n",
        "    data = [float(line.strip().split('\\t')[1]) for line in lines]\n",
        "    return data\n",
        "# Step 4: Load and preprocess input data from text files\n",
        "input_data = [load_data_from_text_file(file) for file in input_files]\n",
        "# Step 2: Convert input_data to PyTorch tensors\n",
        "input_data_tensor = torch.tensor(input_data, dtype=torch.float32)"
      ],
      "metadata": {
        "id": "7K-5k-SSjLUa"
      },
      "execution_count": null,
      "outputs": []
    },
    {
      "cell_type": "code",
      "source": [
        "input_folder_path = \"/content/gdrive/MyDrive/BTP/CA_DATASET\"\n",
        "input_files_test = [os.path.join(input_folder_path, file) for file in os.listdir(input_folder_path) if file.endswith(\".txt\")]\n",
        "target_excel_path = \"/content/gdrive/MyDrive/BTP/DEMO_VALUES.xlsx\"\n",
        "target_df = pd.read_excel(target_excel_path)"
      ],
      "metadata": {
        "id": "tkwNpfIFkesl"
      },
      "execution_count": 42,
      "outputs": []
    },
    {
      "cell_type": "code",
      "source": [
        "targets_new = target_df[\"targets\"].values\n",
        "def load_data_from_text_file(file_path):\n",
        "    with open(file_path, 'r') as file:\n",
        "        lines = file.readlines()\n",
        "    # Assuming the data is tab-separated\n",
        "    data = [float(line.strip().split('\\t')[1]) for line in lines]\n",
        "    return data\n",
        "# Step 4: Load and preprocess input data from text files\n",
        "input_data_test = [load_data_from_text_file(file) for file in input_files_test]\n",
        "# Step 2: Convert input_data to PyTorch tensors\n",
        "input_data_tensor_test = torch.tensor(input_data_test, dtype=torch.float32)"
      ],
      "metadata": {
        "id": "GVyFM-Gbjo6U"
      },
      "execution_count": 46,
      "outputs": []
    },
    {
      "cell_type": "code",
      "source": [
        "# the model for predictions\n",
        "with torch.no_grad():\n",
        "    predicted_values = model(input_data_tensor_test)\n",
        "    print(f'Predicted Values: {predicted_values.view(-1).tolist()}')"
      ],
      "metadata": {
        "colab": {
          "base_uri": "https://localhost:8080/"
        },
        "id": "864i7MMyaG7p",
        "outputId": "62dddbbc-d7f1-462e-81f2-c719dc5f113a"
      },
      "execution_count": 44,
      "outputs": [
        {
          "output_type": "stream",
          "name": "stdout",
          "text": [
            "Predicted Values: [2.8032381534576416, 2.586540699005127, 3.131495714187622, 2.588557720184326, 3.2000234127044678, 2.90932035446167]\n"
          ]
        }
      ]
    },
    {
      "cell_type": "code",
      "source": [
        "plt.figure(figsize=(10, 6))\n",
        "plt.plot(targets_new, label=\"True Values\")\n",
        "plt.plot(predicted_values.view(-1).tolist(), label=\"Predicted Values\")\n",
        "plt.xlabel(\"Data Points\")\n",
        "plt.ylabel(\"Target Value\")\n",
        "plt.title(\"True vs. Predicted Values\")\n",
        "plt.legend()\n",
        "plt.show()"
      ],
      "metadata": {
        "colab": {
          "base_uri": "https://localhost:8080/",
          "height": 564
        },
        "id": "sZYYHshEmL47",
        "outputId": "2196a0d4-038f-4d08-acd6-c7f9613e5325"
      },
      "execution_count": 88,
      "outputs": [
        {
          "output_type": "display_data",
          "data": {
            "text/plain": [
              "<Figure size 1000x600 with 1 Axes>"
            ],
            "image/png": "[encoded data removed]"
          },
          "metadata": {}
        }
      ]
    },
    {
      "cell_type": "markdown",
      "source": [
        "## further for training the model with batch_size"
      ],
      "metadata": {
        "id": "Opevos2akVaq"
      }
    },
    {
      "cell_type": "markdown",
      "source": [
        "## dataloaders for the future references"
      ],
      "metadata": {
        "id": "TlaRm2lCa5Je"
      }
    },
    {
      "cell_type": "code",
      "source": [
        "# # Step 4: Create a custom PyTorch dataset class\n",
        "class MyDataset(Dataset):\n",
        "    def __init__(self, input_data_tensor, targets, transform=None):\n",
        "        self.input_data_tensor = input_data_tensor\n",
        "        self.targets = targets\n",
        "        self.transform = transform\n",
        "\n",
        "    def __len__(self):\n",
        "        return len(self.input_data_tensor)\n",
        "\n",
        "    def __getitem__(self, idx):\n",
        "        # Load input file\n",
        "        input_data = self.input_data_tensor[idx]\n",
        "        # with open(input_file_path, 'r') as file:\n",
        "        #     input_data = file.read()\n",
        "        # Load target\n",
        "        target = self.targets[idx]\n",
        "\n",
        "        # Apply any necessary transformations\n",
        "        if self.transform:\n",
        "            input_data = self.transform(input_data)\n",
        "\n",
        "        return input_data, target"
      ],
      "metadata": {
        "id": "YWt9Sp1taXyl"
      },
      "execution_count": 55,
      "outputs": []
    },
    {
      "cell_type": "code",
      "source": [
        "\n",
        "\n",
        "# # Define the transformations\n",
        "# transform = transforms.Compose([\n",
        "#     transforms.ToTensor(),  # Convert data to PyTorch tensors\n",
        "#     # transforms.Normalize((0.5,), (0.5,)),  # Normalize the data\n",
        "#     # transforms.RandomHorizontalFlip(),  # Randomly flip the data horizontally\n",
        "#     # transforms.RandomRotation(10),  # Randomly rotate the data\n",
        "# ])\n",
        "\n",
        "\n",
        "\n",
        "# Create a new dataset using the transformed data\n",
        "transformed_dataset = MyDataset(input_data_tensor=input_data_tensor_test, targets=targets_new)\n",
        "\n",
        "\n"
      ],
      "metadata": {
        "id": "y5206Ld6bvCQ"
      },
      "execution_count": 68,
      "outputs": []
    },
    {
      "cell_type": "code",
      "source": [
        "transformed_dataset.targets"
      ],
      "metadata": {
        "colab": {
          "base_uri": "https://localhost:8080/"
        },
        "id": "XlOvvfNycyFJ",
        "outputId": "8146b8ef-a1cd-4100-cc99-458b77860d28"
      },
      "execution_count": 64,
      "outputs": [
        {
          "output_type": "execute_result",
          "data": {
            "text/plain": [
              "array([4.5 , 3.26, 3.78, 4.59, 8.2 , 4.56])"
            ]
          },
          "metadata": {},
          "execution_count": 64
        }
      ]
    },
    {
      "cell_type": "code",
      "source": [
        "# prompt: create a trainloader for the above dataset\n",
        "\n",
        "batch_size = 2\n",
        "train_loader = DataLoader(dataset=transformed_dataset, batch_size=batch_size, shuffle=True)\n"
      ],
      "metadata": {
        "id": "jXYL9T79bl3D"
      },
      "execution_count": 69,
      "outputs": []
    },
    {
      "cell_type": "code",
      "source": [
        "# Define hyperparameters\n",
        "input_size =100 #len(train_dataset[0][0]) #len(train_dataset[0][0])  # Number of input features\n",
        "hidden_size = 64  # Number of neurons in the hidden layer\n",
        "output_size = 1  # Number of output neurons\n",
        "\n",
        "# Instantiate the model\n",
        "model = RegressionModel(input_size, hidden_size, output_size)\n",
        "\n",
        "# Loss function and optimizer\n",
        "criterion = nn.MSELoss()\n",
        "optimizer = optim.Adam(model.parameters(), lr=0.001)"
      ],
      "metadata": {
        "id": "2dRbnv2bdbOv"
      },
      "execution_count": 70,
      "outputs": []
    },
    {
      "cell_type": "code",
      "source": [
        "# prompt: I want to check the what are the targets in train_loader\n",
        "\n",
        "for batch in train_loader:\n",
        "  inputs, targets = batch\n",
        "  print(targets)\n",
        "  break\n"
      ],
      "metadata": {
        "colab": {
          "base_uri": "https://localhost:8080/"
        },
        "id": "BlqYK1xpglVf",
        "outputId": "a4d87226-9954-484a-bf88-f22d14298480"
      },
      "execution_count": 79,
      "outputs": [
        {
          "output_type": "stream",
          "name": "stdout",
          "text": [
            "tensor([4.5600, 8.2000], dtype=torch.float64)\n"
          ]
        }
      ]
    },
    {
      "cell_type": "code",
      "source": [
        "# prompt: make the above into the float64 into float32 tensor target\n",
        "\n",
        "# Assuming `targets` is a tensor of type float64\n",
        "targets = targets.float()\n",
        "\n",
        "# Convert the targets tensor to float32\n",
        "targets = targets.to(torch.float32)\n"
      ],
      "metadata": {
        "colab": {
          "base_uri": "https://localhost:8080/"
        },
        "id": "-uQKQW41hkKE",
        "outputId": "f590b0a2-9bfe-49c0-b7f4-f76566ebc0f8"
      },
      "execution_count": 82,
      "outputs": [
        {
          "output_type": "execute_result",
          "data": {
            "text/plain": [
              "[4.56, 8.2]"
            ]
          },
          "metadata": {},
          "execution_count": 82
        }
      ]
    },
    {
      "cell_type": "code",
      "source": [],
      "metadata": {
        "id": "knxtSRxpi6ST"
      },
      "execution_count": null,
      "outputs": []
    },
    {
      "cell_type": "code",
      "source": [
        "# prompt: make them into a list\n",
        "\n",
        "my_list = list(targets)\n",
        "my_list"
      ],
      "metadata": {
        "colab": {
          "base_uri": "https://localhost:8080/"
        },
        "id": "tqJLx4nNhN8r",
        "outputId": "8d23f024-d78f-40a7-c932-a42edc8c934b"
      },
      "execution_count": 81,
      "outputs": [
        {
          "output_type": "execute_result",
          "data": {
            "text/plain": [
              "[tensor(4.5600, dtype=torch.float64), tensor(8.2000, dtype=torch.float64)]"
            ]
          },
          "metadata": {},
          "execution_count": 81
        }
      ]
    },
    {
      "cell_type": "code",
      "source": [
        "\n",
        "# Define the optimizer and loss function\n",
        "optimizer = optim.Adam(model.parameters(), lr=0.001)\n",
        "criterion = nn.MSELoss()\n",
        "\n",
        "# Train the model for a certain number of epochs\n",
        "num_epochs = 1000\n",
        "\n",
        "for epoch in range(num_epochs):\n",
        "    for i, (inputs, targets) in enumerate(train_loader):\n",
        "        # Forward pass\n",
        "        outputs = model(inputs)\n",
        "\n",
        "        # Calculate the loss\n",
        "        targets = targets.float()\n",
        "\n",
        "        # Convert the targets tensor to float32\n",
        "        target_values = targets.to(torch.float32).view(-1,1)\n",
        "        # target_values = torch.tensor(target, dtype=torch.float32).view(-1, 1)\n",
        "        loss = criterion(outputs, target_values)\n",
        "\n",
        "        # Backpropagate the loss\n",
        "        optimizer.zero_grad()\n",
        "        loss.backward()\n",
        "        optimizer.step()\n",
        "\n",
        "        # Print the loss every 100 iterations\n",
        "        if (i + 1) % 100 == 0:\n",
        "            print(f'Epoch [{epoch+1}/{num_epochs}], Batch [{i+1}], Loss: {loss.item():.4f}')"
      ],
      "metadata": {
        "id": "D7ByAo8gbeNZ"
      },
      "execution_count": 87,
      "outputs": []
    },
    {
      "cell_type": "markdown",
      "source": [
        "## saving the model"
      ],
      "metadata": {
        "id": "uOplGCv5dlVz"
      }
    },
    {
      "cell_type": "code",
      "source": [
        "# Save the trained model\n",
        "torch.save(model.state_dict(), 'trained_model.pt')"
      ],
      "metadata": {
        "id": "1uj06Xwwdkba"
      },
      "execution_count": null,
      "outputs": []
    }
  ]
}